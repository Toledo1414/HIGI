{
  "nbformat": 4,
  "nbformat_minor": 0,
  "metadata": {
    "colab": {
      "provenance": [],
      "authorship_tag": "ABX9TyP9n0x/PlM0iConJX9f+Ae3",
      "include_colab_link": true
    },
    "kernelspec": {
      "name": "python3",
      "display_name": "Python 3"
    },
    "language_info": {
      "name": "python"
    }
  },
  "cells": [
    {
      "cell_type": "markdown",
      "metadata": {
        "id": "view-in-github",
        "colab_type": "text"
      },
      "source": [
        "<a href=\"https://colab.research.google.com/github/Toledo1414/HIGI/blob/main/phyton/Ejercicio_linea_recta.ipynb\" target=\"_parent\"><img src=\"https://colab.research.google.com/assets/colab-badge.svg\" alt=\"Open In Colab\"/></a>"
      ]
    },
    {
      "cell_type": "code",
      "execution_count": 22,
      "metadata": {
        "colab": {
          "base_uri": "https://localhost:8080/",
          "height": 734
        },
        "id": "wtaK_k3hlCZO",
        "outputId": "e95a5c15-b812-4f5f-fc9a-ded515e610d5"
      },
      "outputs": [
        {
          "output_type": "stream",
          "name": "stdout",
          "text": [
            "[[ 0.59677897  0.9210494   1.15618395  1.75451756  1.8249173   2.26851454\n",
            "   2.28263231  2.50455365  2.86139335  2.93714046  3.12261223  3.17285482\n",
            "   3.22958914  3.43178016  3.61788656  3.92117518  3.98044255  4.14826212\n",
            "   4.2310646   4.2583029   4.26351307  4.30862763  4.33701173  4.38572245\n",
            "   4.80931901  4.83034264  4.93685098  5.01836676  5.19485119  5.31551374\n",
            "   5.31827587  5.51314769  6.11023511  6.12894526  6.23952952  6.30976124\n",
            "   6.34400959  6.84829739  6.96469186  7.1946897   7.22443383  7.24455325\n",
            "   7.29049707  7.37995406  8.49431794  8.66309158  8.93389163  9.44160018\n",
            "   9.80764198  9.85559786]\n",
            " [ 4.05604445  3.49473158  3.64659922  2.13858412  2.592304    2.4144795\n",
            "   2.00068802  2.34549221  0.96557623  0.99178712  1.46307492  1.10095878\n",
            "   1.46034876  0.13653165  1.19421147  0.89993786  0.4632976   0.32173118\n",
            "   0.27010789 -0.51056385  0.26659401 -0.71089448 -0.0438278   0.66018092\n",
            "  -0.39951159 -0.14112664 -0.05920187 -0.47059271 -0.93196098 -0.95457459\n",
            "  -0.30011546 -1.89845423 -1.67218374 -1.74869226 -1.62427623 -1.36988805\n",
            "  -1.34410258 -2.30916966 -2.18290338 -2.4591166  -2.42248942 -2.99347001\n",
            "  -2.97771581 -3.31574997 -4.1554429  -3.87394581 -4.14358052 -4.6674123\n",
            "  -5.23645677 -4.67072792]\n",
            " [ 0.16031433  0.5131704   0.40153006  0.372534    0.27138192  0.25206039\n",
            "   0.30851111  0.44065038  0.53772842  0.35521117  0.43465689  0.39296828\n",
            "   0.41245175  0.43734453  0.52117122  0.14159749  0.48184142  0.22183319\n",
            "   0.19711148  0.38622848  0.14785626  0.54266341  0.41362449  0.46170818\n",
            "   0.1080646   0.39721594  0.3783926   0.17947982  0.17653526  0.44776476\n",
            "   0.25938321  0.44598515  0.37719162  0.29447529  0.56256624  0.520835\n",
            "   0.27869878  0.12179573  0.25238404  0.29909284  0.45247942  0.59767924\n",
            "   0.27795743  0.48127391  0.39658846  0.4458509   0.17556373  0.29943815\n",
            "   0.22042795  0.27172801]]\n"
          ]
        },
        {
          "output_type": "display_data",
          "data": {
            "text/plain": [
              "<Figure size 432x288 with 1 Axes>"
            ],
            "image/png": "[encoded data removed]"
          },
          "metadata": {
            "needs_background": "light"
          }
        }
      ],
      "source": [
        "from numpy.lib.polynomial import polyfit\n",
        "import numpy as np\n",
        "import matplotlib.pyplot as plt\n",
        "import math as math\n",
        "from scipy.optimize import minimize \n",
        "from scipy import stats\n",
        "\n",
        "data= np.load(\"line.npy\")\n",
        "x= data[0]\n",
        "y= data [1]\n",
        "yerr= data[2]\n",
        "\n",
        "print(data)\n",
        "\n",
        "plt.errorbar (x, y, yerr, fmt= '.')\n",
        "\n",
        "def chi2(params):\n",
        "  a=params[0]\n",
        "  b= params[1]\n",
        "  ymodel= ax+b\n",
        "  chi2=0.5*np.sum((y-ymodel)**2/yerr**2)\n",
        "  return chi2\n",
        "  \n",
        "  res=minimize(chi2, x0=[-0,0], options={'disp':True})\n",
        "  a_op, b_op =res.x\n",
        "  print(a_op, b_op)\n",
        "  \n",
        "  plt.errorbar(x,y,yerr,fmt='.')\n",
        "  plt.plot(x,a_op**x+b_op)\n",
        "  plt.plot(x,a_fit**x)"
      ]
    },
    {
      "cell_type": "code",
      "source": [],
      "metadata": {
        "id": "os7Qg23t2s1U"
      },
      "execution_count": 22,
      "outputs": []
    }
  ]
}