{
  "nbformat": 4,
  "nbformat_minor": 0,
  "metadata": {
    "colab": {
      "provenance": [],
      "toc_visible": true,
      "authorship_tag": "ABX9TyNlLJigG4MeKZ987tEnVhnf",
      "include_colab_link": true
    },
    "kernelspec": {
      "name": "python3",
      "display_name": "Python 3"
    },
    "language_info": {
      "name": "python"
    }
  },
  "cells": [
    {
      "cell_type": "markdown",
      "metadata": {
        "id": "view-in-github",
        "colab_type": "text"
      },
      "source": [
        "<a href=\"https://colab.research.google.com/github/Toledo1414/HIGI/blob/main/python/EDO_Metodo_de_Euler2.ipynb\" target=\"_parent\"><img src=\"https://colab.research.google.com/assets/colab-badge.svg\" alt=\"Open In Colab\"/></a>"
      ]
    },
    {
      "cell_type": "code",
      "execution_count": 14,
      "metadata": {
        "id": "Sqx2KOoj2vVw"
      },
      "outputs": [],
      "source": [
        "from numpy.lib.polynomial import polyfit\n",
        "import numpy as np\n",
        "import matplotlib.pyplot as plt\n",
        "import math as math\n",
        "import sympy"
      ]
    },
    {
      "cell_type": "code",
      "source": [
        "def euler(x0,v0,omega_0, t0=0, dt=0.01, nsteps=100):\n",
        "  x=[x0]\n",
        "  t=[t0]\n",
        "  for i in range(1,nsteps):\n",
        "    vi=v0-omega_0**2*x0*dt\n",
        "    xi=x0+v0*dt\n",
        "    x.append(xi)\n",
        "    t.append(t0+dt*i)\n",
        "    x0=xi\n",
        "    v0=vi\n",
        "    return x,t"
      ],
      "metadata": {
        "id": "CtkGY9159bAW"
      },
      "execution_count": 18,
      "outputs": []
    },
    {
      "cell_type": "code",
      "source": [
        "    x,t=euler(1,0,2,nsteps=1000)\n",
        "    plt.plot(t,x)"
      ],
      "metadata": {
        "colab": {
          "base_uri": "https://localhost:8080/",
          "height": 282
        },
        "id": "FS3SUJouBpgb",
        "outputId": "c376e8df-d524-4200-de20-33187d9344b5"
      },
      "execution_count": 20,
      "outputs": [
        {
          "output_type": "execute_result",
          "data": {
            "text/plain": [
              "[<matplotlib.lines.Line2D at 0x7fc4a2d09210>]"
            ]
          },
          "metadata": {},
          "execution_count": 20
        },
        {
          "output_type": "display_data",
          "data": {
            "text/plain": [
              "<Figure size 432x288 with 1 Axes>"
            ],
            "image/png": "[encoded data removed]"
          },
          "metadata": {
            "needs_background": "light"
          }
        }
      ]
    }
  ]
}